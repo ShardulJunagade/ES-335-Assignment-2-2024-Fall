{
 "cells": [
  {
   "cell_type": "markdown",
   "metadata": {},
   "source": [
    "## Task 1 : Ascending the Gradient Descent"
   ]
  },
  {
   "cell_type": "markdown",
   "metadata": {},
   "source": [
    "### Importing the libraries"
   ]
  },
  {
   "cell_type": "code",
   "execution_count": 54,
   "metadata": {},
   "outputs": [],
   "source": [
    "import numpy as np\n",
    "import torch"
   ]
  },
  {
   "cell_type": "markdown",
   "metadata": {},
   "source": [
    "### Generating the dataset"
   ]
  },
  {
   "cell_type": "code",
   "execution_count": 55,
   "metadata": {},
   "outputs": [],
   "source": [
    "np.random.seed(45)\n",
    "num_samples = 40\n",
    "    \n",
    "# Generate data\n",
    "x1 = np.random.uniform(-1, 1, num_samples)\n",
    "f_x = 3*x1 + 4\n",
    "eps = np.random.randn(num_samples)\n",
    "y = f_x + eps"
   ]
  },
  {
   "cell_type": "markdown",
   "metadata": {},
   "source": [
    "### Q1 Use torch.autograd to find the true gradient on the above dataset using linear regression (in the form $\\theta_1x + \\theta_0$) for any given values of ($\\theta_1,\\theta_0$)"
   ]
  },
  {
   "cell_type": "code",
   "execution_count": 56,
   "metadata": {},
   "outputs": [
    {
     "name": "stdout",
     "output_type": "stream",
     "text": [
      "Gradient with respect to t0: -5.785816192626953\n",
      "Gradient with respect to t1: 0.06868766248226166\n"
     ]
    }
   ],
   "source": [
    "t0=torch.tensor(1.0, requires_grad=True)\n",
    "t1=torch.tensor(2.0, requires_grad=True)\n",
    "\n",
    "loss=0\n",
    "for i in range(num_samples):\n",
    "    yp= t0 + t1*x1[i]\n",
    "    loss += (y[i]-yp)**2\n",
    "loss=loss/num_samples\n",
    "loss.backward()\n",
    "print(f\"Gradient with respect to t0: {t0.grad.item()}\")\n",
    "print(f\"Gradient with respect to t1: {t1.grad.item()}\")"
   ]
  },
  {
   "cell_type": "markdown",
   "metadata": {},
   "source": [
    "### Q2 Using the same ($\\theta_1,\\theta_0$) as above, calculate the stochastic gradient for all points in the dataset. Then, find the average of all those gradients and show that the stochastic gradient is a good estimate of the true gradient."
   ]
  },
  {
   "cell_type": "code",
   "execution_count": 59,
   "metadata": {},
   "outputs": [
    {
     "name": "stdout",
     "output_type": "stream",
     "text": [
      "Gradient with respect to t0: -5.7858156859874725\n",
      "Gradient with respect to t1: 0.06868768092244863\n"
     ]
    }
   ],
   "source": [
    "l=0.0\n",
    "t0_grad=[]\n",
    "t1_grad=[]\n",
    "for i in range(num_samples):\n",
    "    yp= t0 + t1*x1[i]\n",
    "    l= (y[i]-yp)**2\n",
    "    t0.grad.zero_()\n",
    "    t1.grad.zero_()  \n",
    "    l.backward()\n",
    "    t0_grad.append(t0.grad.item())\n",
    "    t1_grad.append(t1.grad.item())\n",
    "\n",
    "print(f\"Gradient with respect to t0: {np.mean(t0_grad)}\")\n",
    "print(f\"Gradient with respect to t1: {np.mean(t1_grad)}\")"
   ]
  }
 ],
 "metadata": {
  "kernelspec": {
   "display_name": "Python 3",
   "language": "python",
   "name": "python3"
  },
  "language_info": {
   "codemirror_mode": {
    "name": "ipython",
    "version": 3
   },
   "file_extension": ".py",
   "mimetype": "text/x-python",
   "name": "python",
   "nbconvert_exporter": "python",
   "pygments_lexer": "ipython3",
   "version": "3.10.10"
  }
 },
 "nbformat": 4,
 "nbformat_minor": 2
}
